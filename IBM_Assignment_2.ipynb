{
  "nbformat": 4,
  "nbformat_minor": 0,
  "metadata": {
    "colab": {
      "provenance": [],
      "collapsed_sections": []
    },
    "kernelspec": {
      "name": "python3",
      "display_name": "Python 3"
    },
    "language_info": {
      "name": "python"
    }
  },
  "cells": [
    {
      "cell_type": "markdown",
      "source": [
        "2.Load the dataset"
      ],
      "metadata": {
        "id": "1Sf7ED8BKJD0"
      }
    },
    {
      "cell_type": "code",
      "execution_count": null,
      "metadata": {
        "id": "jTIeEWYmJoDg"
      },
      "outputs": [],
      "source": [
        "import numpy as np\n",
        "import pandas as pd\n"
      ]
    },
    {
      "cell_type": "code",
      "source": [
        "df=pd.read_csv(\"Churn_Modelling.csv\")"
      ],
      "metadata": {
        "id": "djoMQhVtKoYh"
      },
      "execution_count": null,
      "outputs": []
    },
    {
      "cell_type": "code",
      "source": [
        "df"
      ],
      "metadata": {
        "id": "Rt49UFgzKw-8"
      },
      "execution_count": null,
      "outputs": []
    },
    {
      "cell_type": "markdown",
      "source": [
        "3.Visualizations"
      ],
      "metadata": {
        "id": "h8b0_fhJK1pH"
      }
    },
    {
      "cell_type": "code",
      "source": [
        "import matplotlib.pyplot as plt"
      ],
      "metadata": {
        "id": "0smWcOELKzpW"
      },
      "execution_count": null,
      "outputs": []
    },
    {
      "cell_type": "code",
      "source": [
        "import seaborn as sns"
      ],
      "metadata": {
        "id": "m2ahDG9YK_Bb"
      },
      "execution_count": null,
      "outputs": []
    },
    {
      "cell_type": "code",
      "source": [
        "%matplotlib inline"
      ],
      "metadata": {
        "id": "qvIdYIPjLDaG"
      },
      "execution_count": null,
      "outputs": []
    },
    {
      "cell_type": "markdown",
      "source": [
        "i)Univariate Analysis"
      ],
      "metadata": {
        "id": "tfLcNvk3LH_l"
      }
    },
    {
      "cell_type": "code",
      "source": [
        "df[['CustomerId','Surname','CreditScore','Geography','Age','Tenure']].describe()"
      ],
      "metadata": {
        "id": "18KQmmjiLSVZ"
      },
      "execution_count": null,
      "outputs": []
    },
    {
      "cell_type": "code",
      "source": [
        "sns.histplot(df.Age,kde=True)"
      ],
      "metadata": {
        "id": "W8jP1YBlN_ZO"
      },
      "execution_count": null,
      "outputs": []
    },
    {
      "cell_type": "code",
      "source": [
        "#plot count plot for the gender column\n",
        "sns.countplot(df.Gender)"
      ],
      "metadata": {
        "id": "-sDVTPHwPSU6"
      },
      "execution_count": null,
      "outputs": []
    },
    {
      "cell_type": "markdown",
      "source": [
        "ii)Bivariate Analysis"
      ],
      "metadata": {
        "id": "lS9KDHqEPlXj"
      }
    },
    {
      "cell_type": "code",
      "source": [
        "diff[['CustomerId','Surname','CreditScore','Geography','Gender','Age']].corr()"
      ],
      "metadata": {
        "id": "tvdDIV9RPuz9"
      },
      "execution_count": null,
      "outputs": []
    },
    {
      "cell_type": "code",
      "source": [
        "sns.scatterplot(df.CreditScore,df.Age)\n",
        "plt.ylim(0,100)"
      ],
      "metadata": {
        "id": "motwrS7xQLW_"
      },
      "execution_count": null,
      "outputs": []
    },
    {
      "cell_type": "markdown",
      "source": [
        "iii)Multivariate Analysis"
      ],
      "metadata": {
        "id": "_uOOfA4yQie3"
      }
    },
    {
      "cell_type": "code",
      "source": [
        "sns.pairplot(data=df[['CustomerId','Geography','Gender','CreditScore','Age','Balance']],hue='Balance')"
      ],
      "metadata": {
        "id": "7dppEQuQQraE"
      },
      "execution_count": null,
      "outputs": []
    },
    {
      "cell_type": "markdown",
      "source": [
        "4.Descriptive Statistics"
      ],
      "metadata": {
        "id": "HfsEpQtVRIPo"
      }
    },
    {
      "cell_type": "code",
      "source": [
        "#mode\n",
        "df['Age'].mode()"
      ],
      "metadata": {
        "id": "6ZKOjLcDRS-0"
      },
      "execution_count": null,
      "outputs": []
    },
    {
      "cell_type": "code",
      "source": [
        "#calculation of the mean (for Age)\n",
        "df[\"Age\"].mean()"
      ],
      "metadata": {
        "id": "adrc47ixRaA0"
      },
      "execution_count": null,
      "outputs": []
    },
    {
      "cell_type": "code",
      "source": [
        "#calculation of the mean and round the result(for Age)\n",
        "round(df[\"Age\"].mean(),2)"
      ],
      "metadata": {
        "id": "FKCPCXLORh9v"
      },
      "execution_count": null,
      "outputs": []
    },
    {
      "cell_type": "code",
      "source": [
        "#calculation of the median(for Age)\n",
        "df[\"Age\"].median()"
      ],
      "metadata": {
        "id": "BbBs64TGR6dJ"
      },
      "execution_count": null,
      "outputs": []
    },
    {
      "cell_type": "code",
      "source": [
        "df.columns"
      ],
      "metadata": {
        "id": "K7QktJAhSISb"
      },
      "execution_count": null,
      "outputs": []
    },
    {
      "cell_type": "code",
      "source": [
        "df[\"\"]"
      ],
      "metadata": {
        "id": "Rkd1BAysSMeh"
      },
      "execution_count": null,
      "outputs": []
    },
    {
      "cell_type": "code",
      "source": [
        "df[\"NumOfProducts\"].value_counts()"
      ],
      "metadata": {
        "id": "TH8StfdJSQW3"
      },
      "execution_count": null,
      "outputs": []
    },
    {
      "cell_type": "code",
      "source": [
        "df.dtypes"
      ],
      "metadata": {
        "id": "SNRDWtbMSfSK"
      },
      "execution_count": null,
      "outputs": []
    },
    {
      "cell_type": "code",
      "source": [
        "df.head()"
      ],
      "metadata": {
        "id": "S1T1mjHASjDA"
      },
      "execution_count": null,
      "outputs": []
    },
    {
      "cell_type": "code",
      "source": [
        "df.describe()"
      ],
      "metadata": {
        "id": "bCBnuwpaSl9F"
      },
      "execution_count": null,
      "outputs": []
    },
    {
      "cell_type": "markdown",
      "source": [
        "5.Handling Missing Values"
      ],
      "metadata": {
        "id": "CJZTD8ocStVQ"
      }
    },
    {
      "cell_type": "code",
      "source": [
        "df.isna().any()"
      ],
      "metadata": {
        "id": "X7xBzQKaSowp"
      },
      "execution_count": null,
      "outputs": []
    },
    {
      "cell_type": "code",
      "source": [
        "df.isnull().sum()"
      ],
      "metadata": {
        "id": "Bpr7rFkUSzaD"
      },
      "execution_count": null,
      "outputs": []
    },
    {
      "cell_type": "code",
      "source": [
        "df.isnull()"
      ],
      "metadata": {
        "id": "ri1r4FtNS5PT"
      },
      "execution_count": null,
      "outputs": []
    },
    {
      "cell_type": "code",
      "source": [
        "df.notnull()"
      ],
      "metadata": {
        "id": "l7OVs2JFS-Ks"
      },
      "execution_count": null,
      "outputs": []
    },
    {
      "cell_type": "markdown",
      "source": [
        "6.Finding and replacing the outliers"
      ],
      "metadata": {
        "id": "lFs8YZO2TCUn"
      }
    },
    {
      "cell_type": "code",
      "source": [
        "import seaborn as sns\n",
        "sns.boxplot(x=df['Age'])"
      ],
      "metadata": {
        "id": "SJWLENb_TBE0"
      },
      "execution_count": null,
      "outputs": []
    },
    {
      "cell_type": "code",
      "source": [
        "sns.boxlot(x=df['Tenure'])"
      ],
      "metadata": {
        "id": "Hx8RaNYqTRJ5"
      },
      "execution_count": null,
      "outputs": []
    },
    {
      "cell_type": "markdown",
      "source": [
        "7.Check for categorical columns and perform encoding"
      ],
      "metadata": {
        "id": "6FdgnO2bUZ_9"
      }
    },
    {
      "cell_type": "code",
      "source": [
        "import pandas as pd\n",
        "df=pd.read_csv(\"Churn_Modelling.csv\",header=None)"
      ],
      "metadata": {
        "id": "IQC4hBpsUYYH"
      },
      "execution_count": null,
      "outputs": []
    },
    {
      "cell_type": "code",
      "source": [
        "cols=df.columns\n",
        "nums_cols=df._get_numeric_data().columns"
      ],
      "metadata": {
        "id": "MSgRdyxIU04r"
      },
      "execution_count": null,
      "outputs": []
    },
    {
      "cell_type": "code",
      "source": [
        "num_cols"
      ],
      "metadata": {
        "id": "5SKS03c_VbCZ"
      },
      "execution_count": null,
      "outputs": []
    },
    {
      "cell_type": "code",
      "source": [
        "list(set(cols) - set(num_cols))"
      ],
      "metadata": {
        "id": "1JhT657IVeuy"
      },
      "execution_count": null,
      "outputs": []
    },
    {
      "cell_type": "markdown",
      "source": [
        "8.Split the data into dependent and independent variables"
      ],
      "metadata": {
        "id": "sgZaZWxFV4Cr"
      }
    },
    {
      "cell_type": "code",
      "source": [
        "# x -Independent\n",
        "# y -Dependent\n",
        "x =df.drop('Exited',axis=1)\n",
        "y=df['Exited']"
      ],
      "metadata": {
        "id": "bZVYotg0WZmS"
      },
      "execution_count": null,
      "outputs": []
    },
    {
      "cell_type": "code",
      "source": [
        "y.head()"
      ],
      "metadata": {
        "id": "ZmINgwvVXTwL"
      },
      "execution_count": null,
      "outputs": []
    },
    {
      "cell_type": "markdown",
      "source": [
        "9.Scale the independent variables"
      ],
      "metadata": {
        "id": "l5iBrdN9XXrj"
      }
    },
    {
      "cell_type": "code",
      "source": [
        "from sklearrn import linear_model\n",
        "from sklearn.preprocessing import StandardScaler\n",
        "scale = StandardScaler()"
      ],
      "metadata": {
        "id": "qJyumR6JXWiT"
      },
      "execution_count": null,
      "outputs": []
    },
    {
      "cell_type": "code",
      "source": [
        "x = df[['Balance','Tenure']]\n",
        "scaledX = scale.fit_transform(X)\n",
        "print(scaledX)"
      ],
      "metadata": {
        "id": "zbnbTo3nX3ov"
      },
      "execution_count": null,
      "outputs": []
    },
    {
      "cell_type": "markdown",
      "source": [
        "10.Split the data into training and testing"
      ],
      "metadata": {
        "id": "Au2TY5C7YJrw"
      }
    },
    {
      "cell_type": "code",
      "source": [
        "from sklearn.model_selection import train_test_split"
      ],
      "metadata": {
        "id": "9KUMSdC6YO6D"
      },
      "execution_count": null,
      "outputs": []
    },
    {
      "cell_type": "code",
      "source": [
        "x_train,x_test,y_train,y_test = train_test_split(x,y,test_size=0.2,random_state=0)"
      ],
      "metadata": {
        "id": "p3Z86o4wYYmE"
      },
      "execution_count": null,
      "outputs": []
    },
    {
      "cell_type": "code",
      "source": [
        "print('X Train shape:{},Y.Train SHape:{}'.format(x_train.shape,y_train.shape))"
      ],
      "metadata": {
        "id": "XU1PwpKSY0X6"
      },
      "execution_count": null,
      "outputs": []
    },
    {
      "cell_type": "code",
      "source": [
        "print('X Test Shape :{},Y Test SHape:{}'.format(x_test.shape,shape,y_test.shape))"
      ],
      "metadata": {
        "id": "DMP1DVDIZOFA"
      },
      "execution_count": null,
      "outputs": []
    }
  ]
}