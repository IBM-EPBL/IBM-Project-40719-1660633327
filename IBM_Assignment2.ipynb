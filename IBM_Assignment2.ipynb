{
  "nbformat": 4,
  "nbformat_minor": 0,
  "metadata": {
    "colab": {
      "provenance": []
    },
    "kernelspec": {
      "name": "python3",
      "display_name": "Python 3"
    },
    "language_info": {
      "name": "python"
    }
  },
  "cells": [
    {
      "cell_type": "markdown",
      "source": [
        "1."
      ],
      "metadata": {
        "id": "8cHJy-lMyGEd"
      }
    },
    {
      "cell_type": "code",
      "execution_count": 1,
      "metadata": {
        "id": "K0OaFoxLyD2K"
      },
      "outputs": [],
      "source": [
        "import numpy as np\n",
        "import pandas as pd\n"
      ]
    },
    {
      "cell_type": "code",
      "source": [
        "df=pd.read _csv(\"churn_modelling.csv\")"
      ],
      "metadata": {
        "id": "EaNFa5s3ygIe"
      },
      "execution_count": null,
      "outputs": []
    },
    {
      "cell_type": "code",
      "source": [
        "df"
      ],
      "metadata": {
        "id": "Y1TrRTQ4ywS9"
      },
      "execution_count": null,
      "outputs": []
    },
    {
      "cell_type": "markdown",
      "source": [
        "3.Visualisations"
      ],
      "metadata": {
        "id": "8POm5O--yExG"
      }
    },
    {
      "cell_type": "code",
      "source": [
        "import matplotlib.pyplot as plt\n",
        "import seaborn as sns\n",
        "%matplotlib inline"
      ],
      "metadata": {
        "id": "dj1qjjeUy0zG"
      },
      "execution_count": 5,
      "outputs": []
    },
    {
      "cell_type": "markdown",
      "source": [
        "i)univariate analysis"
      ],
      "metadata": {
        "id": "8e6cmMzRzJJ1"
      }
    },
    {
      "cell_type": "code",
      "source": [
        "df[['customer Id','surname','creditscore','geography','age','tenure']].describe()"
      ],
      "metadata": {
        "id": "IMBtDY25zR-9"
      },
      "execution_count": null,
      "outputs": []
    },
    {
      "cell_type": "code",
      "source": [
        "sns.histplot(df.age,kde=true)"
      ],
      "metadata": {
        "id": "48o_hwCYzyjt"
      },
      "execution_count": null,
      "outputs": []
    },
    {
      "cell_type": "code",
      "source": [
        "sns.countplot(df.gender)"
      ],
      "metadata": {
        "id": "IGlcgWD20Bmt"
      },
      "execution_count": null,
      "outputs": []
    },
    {
      "cell_type": "markdown",
      "source": [
        "ii)Bivariate Analysis"
      ],
      "metadata": {
        "id": "LOxWKquJ0KCN"
      }
    },
    {
      "cell_type": "code",
      "source": [
        "df[['customerId','surname','creditscore','geography','gender','age',]].corr()"
      ],
      "metadata": {
        "id": "yyL9Jy0a0I3U"
      },
      "execution_count": null,
      "outputs": []
    },
    {
      "cell_type": "code",
      "source": [
        "sns.scatterplot(df.creditscore,df.age)\n",
        "plt.ylim(0,100)"
      ],
      "metadata": {
        "id": "cyrUIlMH01O9"
      },
      "execution_count": null,
      "outputs": []
    },
    {
      "cell_type": "markdown",
      "source": [
        "iii)Multivariate anaylis\n"
      ],
      "metadata": {
        "id": "Bwxlw_CD1Gqs"
      }
    },
    {
      "cell_type": "code",
      "source": [
        "sns.pairplot(data=df[['customerId','geography','gender','creditscore','age','balance']],hue='balance')"
      ],
      "metadata": {
        "id": "4jjzxuHB1QWs"
      },
      "execution_count": null,
      "outputs": []
    },
    {
      "cell_type": "markdown",
      "source": [
        "4.Descriptive statistics"
      ],
      "metadata": {
        "id": "blWptk-q13vM"
      }
    },
    {
      "cell_type": "code",
      "source": [
        "df[\"age\"].mean()"
      ],
      "metadata": {
        "id": "QZAhXRSF14U1"
      },
      "execution_count": null,
      "outputs": []
    },
    {
      "cell_type": "code",
      "source": [
        "round(df[\"age\"].mean(),2)"
      ],
      "metadata": {
        "id": "dmZvEKli2R2s"
      },
      "execution_count": null,
      "outputs": []
    },
    {
      "cell_type": "code",
      "source": [
        "df[\"age\"].median()"
      ],
      "metadata": {
        "id": "ErkNuF9x2ch9"
      },
      "execution_count": null,
      "outputs": []
    },
    {
      "cell_type": "code",
      "source": [
        "df.columns"
      ],
      "metadata": {
        "id": "8J7hrLBc2lw1"
      },
      "execution_count": null,
      "outputs": []
    },
    {
      "cell_type": "code",
      "source": [
        "df[\"NumOfProducts\"].value_counts()"
      ],
      "metadata": {
        "id": "YRagTpiy2pG0"
      },
      "execution_count": null,
      "outputs": []
    },
    {
      "cell_type": "code",
      "source": [
        "df.dtypes"
      ],
      "metadata": {
        "id": "C5VpswpH2yUd"
      },
      "execution_count": null,
      "outputs": []
    },
    {
      "cell_type": "code",
      "source": [
        "df.head()"
      ],
      "metadata": {
        "id": "UyfKc9aZ28iW"
      },
      "execution_count": null,
      "outputs": []
    },
    {
      "cell_type": "code",
      "source": [
        "df.describe()"
      ],
      "metadata": {
        "id": "PsqoR1k32_wM"
      },
      "execution_count": null,
      "outputs": []
    },
    {
      "cell_type": "markdown",
      "source": [
        "5.Handling Missing Values"
      ],
      "metadata": {
        "id": "Tt1hecxP3D3M"
      }
    },
    {
      "cell_type": "code",
      "source": [
        "df.isna().any()"
      ],
      "metadata": {
        "id": "YAMePs7K3CUc"
      },
      "execution_count": null,
      "outputs": []
    },
    {
      "cell_type": "code",
      "source": [
        "df.isnull().sum()"
      ],
      "metadata": {
        "id": "YApBEfaE3Nf9"
      },
      "execution_count": null,
      "outputs": []
    },
    {
      "cell_type": "code",
      "source": [
        "df.isnull()"
      ],
      "metadata": {
        "id": "Pu7hZ_Jb3QQd"
      },
      "execution_count": null,
      "outputs": []
    },
    {
      "cell_type": "code",
      "source": [
        "df.notnull()"
      ],
      "metadata": {
        "id": "NySVVD0g3WGN"
      },
      "execution_count": null,
      "outputs": []
    },
    {
      "cell_type": "markdown",
      "source": [
        "6.Finding and replacing the outliers"
      ],
      "metadata": {
        "id": "MGGaPW5D3Zqe"
      }
    },
    {
      "cell_type": "code",
      "source": [
        "import seaborn as sns\n",
        "sns.boxplot(x=df['age'])"
      ],
      "metadata": {
        "id": "pKpIRoC03Y1k"
      },
      "execution_count": null,
      "outputs": []
    },
    {
      "cell_type": "code",
      "source": [
        "sns.boxplot(x=df['Tenure'])"
      ],
      "metadata": {
        "id": "WzQj6x7G3l0k"
      },
      "execution_count": null,
      "outputs": []
    },
    {
      "cell_type": "markdown",
      "source": [
        "7.Check for categorical columns and perform encoding"
      ],
      "metadata": {
        "id": "OMyHA0n035G2"
      }
    },
    {
      "cell_type": "code",
      "source": [
        "import pandas as pd\n",
        "df=pd.read_csv(\"Churn_Mode.csv\",header=none)"
      ],
      "metadata": {
        "id": "nt6JB8kM4CQd"
      },
      "execution_count": null,
      "outputs": []
    },
    {
      "cell_type": "code",
      "source": [
        "cols=df.columns\n",
        "um_cols=df._get_numeric_data().columns"
      ],
      "metadata": {
        "id": "JUR3WfBt4a_N"
      },
      "execution_count": null,
      "outputs": []
    },
    {
      "cell_type": "code",
      "source": [
        "num_cols"
      ],
      "metadata": {
        "id": "JJislBBe4oVt"
      },
      "execution_count": null,
      "outputs": []
    },
    {
      "cell_type": "code",
      "source": [
        "list(set(cols)-set(num_cols))"
      ],
      "metadata": {
        "id": "WCAEEOu94t-u"
      },
      "execution_count": null,
      "outputs": []
    },
    {
      "cell_type": "markdown",
      "source": [
        "8.Split the data into dependent and independent variables"
      ],
      "metadata": {
        "id": "8asDWIuZ4-6k"
      }
    },
    {
      "cell_type": "code",
      "source": [
        "x=df.drop('Exited',axis=1)\n",
        "y=df['Exited']"
      ],
      "metadata": {
        "id": "gFAx7TL-4-k-"
      },
      "execution_count": null,
      "outputs": []
    },
    {
      "cell_type": "code",
      "source": [
        "x.head()"
      ],
      "metadata": {
        "id": "BpD_e9Aj5jGc"
      },
      "execution_count": null,
      "outputs": []
    },
    {
      "cell_type": "code",
      "source": [
        "y.head()"
      ],
      "metadata": {
        "id": "rzC851T75mBc"
      },
      "execution_count": null,
      "outputs": []
    },
    {
      "cell_type": "markdown",
      "source": [
        "9.Scale the independent variables"
      ],
      "metadata": {
        "id": "WCBsXBy25pM8"
      }
    },
    {
      "cell_type": "code",
      "source": [
        "from sllearn import linear_model\n",
        "from sklearn.preprocessing import StandardScaler\n",
        "scale=StandardScaler()"
      ],
      "metadata": {
        "id": "6rUMzCV55ost"
      },
      "execution_count": null,
      "outputs": []
    },
    {
      "cell_type": "code",
      "source": [
        "x=df[['balance','tenure']]\n",
        "scaledx=scale.fit_transform(x)\n",
        "print(scaledx)"
      ],
      "metadata": {
        "id": "0Q2ojePS6Dk8"
      },
      "execution_count": null,
      "outputs": []
    },
    {
      "cell_type": "markdown",
      "source": [
        "10.Split the data into training and testing"
      ],
      "metadata": {
        "id": "GdhJZ8y56XTN"
      }
    },
    {
      "cell_type": "code",
      "source": [
        "from sklearn.model_selection import train_test_split\n"
      ],
      "metadata": {
        "id": "Or-em_bv6fAE"
      },
      "execution_count": 33,
      "outputs": []
    },
    {
      "cell_type": "code",
      "source": [
        "x_train,x_test,y_train,y_test=train_test_split(x,y,test-size=0.2,random_state=0)"
      ],
      "metadata": {
        "id": "Kwwf9uRR6pbk"
      },
      "execution_count": null,
      "outputs": []
    },
    {
      "cell_type": "code",
      "source": [
        "print('X Train shape:{},Y.Trainshape:{}'.format(X_train.shape,Y_train.shape))"
      ],
      "metadata": {
        "id": "hLUBebQq6_H1"
      },
      "execution_count": null,
      "outputs": []
    },
    {
      "cell_type": "code",
      "source": [
        "print('X Test shape:{},Y Test shape:{}'.format(x_test.shape,y_test.shape))"
      ],
      "metadata": {
        "id": "Ex6ip7Xd7l2l"
      },
      "execution_count": null,
      "outputs": []
    }
  ]
}